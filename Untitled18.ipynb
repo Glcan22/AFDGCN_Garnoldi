{
  "nbformat": 4,
  "nbformat_minor": 0,
  "metadata": {
    "colab": {
      "provenance": [],
      "authorship_tag": "ABX9TyP6qdYRLfh9Y3rhtsuc26hl",
      "include_colab_link": true
    },
    "kernelspec": {
      "name": "python3",
      "display_name": "Python 3"
    },
    "language_info": {
      "name": "python"
    }
  },
  "cells": [
    {
      "cell_type": "markdown",
      "metadata": {
        "id": "view-in-github",
        "colab_type": "text"
      },
      "source": [
        "<a href=\"https://colab.research.google.com/github/Glcan22/AFDGCN_Garnoldi/blob/master/Untitled18.ipynb\" target=\"_parent\"><img src=\"https://colab.research.google.com/assets/colab-badge.svg\" alt=\"Open In Colab\"/></a>"
      ]
    },
    {
      "cell_type": "code",
      "execution_count": null,
      "metadata": {
        "colab": {
          "base_uri": "https://localhost:8080/"
        },
        "id": "CljoLaj3OWvv",
        "outputId": "670e33f1-e782-414a-a58b-dd10a2d55120"
      },
      "outputs": [
        {
          "output_type": "stream",
          "name": "stdout",
          "text": [
            "\n",
            "🔍 0901 Serisi - Arıza Konumu Tespit Sonuçları:\n",
            "📁 0901_07B.CSV → Tahmini: 8.34 km (Test verisi)\n",
            "📁 0901_07.CSV → Tahmini: 1.02 km (Test verisi)\n",
            "📁 0901_01.CSV → Tahmini: 1.02 km (Test verisi)\n",
            "📁 0901_03.CSV → Tahmini: 1.04 km (Test verisi)\n",
            "Hata oluştu (0901_05.CSV): 'faz_B'\n",
            "📁 0901_07D.CSV → Tahmini: 1.95 km (Test verisi)\n",
            "📁 0901_02B.CSV → Tahmini: 1.92 km (Test verisi)\n",
            "📁 0901_06D.CSV → Tahmini: 2.51 km (Test verisi)\n",
            "📁 0901_02.CSV → Tahmini: 1.21 km (Test verisi)\n"
          ]
        }
      ],
      "source": [
        "# ✅ Geliştirilmiş Sadece Sinyal İşleme ile Arıza Tespit Sistemi (0901 Serisi için özel eğitim)\n",
        "# - 0901-01 ~ 0901-05 CSV dosyaları eğitim olarak kullanılır\n",
        "# - Diğer tüm dosyalar test edilir\n",
        "\n",
        "import pandas as pd\n",
        "import numpy as np\n",
        "import matplotlib.pyplot as plt\n",
        "import os\n",
        "from itertools import groupby\n",
        "\n",
        "# ✔️ 1. Colab'e yüklenen tüm CSV dosyalarını oku\n",
        "directory = '/content'\n",
        "dataset_files = [f for f in os.listdir(directory) if f.endswith('.CSV')]\n",
        "\n",
        "# ✔️ 2. Eğitim dosyaları ve arıza KM etiketleri (manuel girildi - 0901 serisi)\n",
        "file_km_labels = {\n",
        "    \"0901-01.CSV\": 0.36,\n",
        "    \"0901-02.CSV\": 1.60,\n",
        "    \"0901-03.CSV\": 2.90,\n",
        "    \"0901-04.CSV\": 4.23,\n",
        "    \"0901-05.CSV\": 4.92\n",
        "}\n",
        "\n",
        "# ✔️ 3. Tüm dosyalar için toplam hat uzunluğu (elde yoksa varsayılan 8.35 km)\n",
        "default_total_km = 8.35\n",
        "file_total_km = {f: file_km_labels.get(f, default_total_km) for f in dataset_files}\n",
        "\n",
        "def detect_fault_km(filename, total_km):\n",
        "    df = pd.read_csv(filename)\n",
        "    df = df.rename(columns={\"in s\": \"time\", \"C1 in A\": \"faz_A\", \"C2 in A\": \"faz_B\", \"C3 in A\": \"faz_C\"})\n",
        "\n",
        "    # Fazlar arasındaki divergence hesapla\n",
        "    df['diff_AB'] = abs(df['faz_A'] - df['faz_B'])\n",
        "    df['diff_AC'] = abs(df['faz_A'] - df['faz_C'])\n",
        "    df['diff_BC'] = abs(df['faz_B'] - df['faz_C'])\n",
        "    df['divergence'] = df[['diff_AB', 'diff_AC', 'diff_BC']].mean(axis=1)\n",
        "\n",
        "    # Rolling RMS ile sinyal enerjisini ölç\n",
        "    window_size = int(len(df) * 0.005)\n",
        "    if window_size < 50:\n",
        "        window_size = 50\n",
        "    df['rolling_rms'] = df['divergence'].rolling(window=window_size, center=True).apply(lambda x: np.sqrt(np.mean(x**2)), raw=True)\n",
        "\n",
        "    # Sinüs bitişini bul: RMS enerjisinin belirli bir eşikten düşük olduğu ilk yer\n",
        "    rms_threshold = df['rolling_rms'].quantile(0.3)\n",
        "    calm_region = df[df['rolling_rms'] < rms_threshold]\n",
        "\n",
        "    if calm_region.empty:\n",
        "        print(f\"❗ Sakin bölge bulunamadı: {filename}\")\n",
        "        return None\n",
        "\n",
        "    calm_start_index = calm_region.index[0]\n",
        "\n",
        "    # Sakin bölgeden sonrasını kullanarak anomaly tespiti\n",
        "    calm_df = df.iloc[calm_start_index:].reset_index(drop=True)\n",
        "\n",
        "    # Sakin bölümde adaptif threshold belirle\n",
        "    mean_div = calm_df['divergence'].mean()\n",
        "    std_div = calm_df['divergence'].std()\n",
        "    threshold = mean_div + 1.5 * std_div\n",
        "    calm_df['is_fault'] = calm_df['divergence'] > threshold\n",
        "\n",
        "    fault_indices = calm_df[calm_df['is_fault']].index.to_list()\n",
        "\n",
        "    def group_consecutive(lst):\n",
        "        return [list(g) for k, g in groupby(enumerate(lst), lambda x: x[0] - x[1])]\n",
        "\n",
        "    fault_groups = group_consecutive(fault_indices)\n",
        "    fault_ranges = [(g[0][1], g[-1][1]) for g in fault_groups if len(g) >= 3]\n",
        "\n",
        "    if not fault_ranges:\n",
        "        print(f\"⚠️ Anomali bulunamadı: {filename}\")\n",
        "        return None\n",
        "\n",
        "    # En erken değil, en uzun anomaly grubunun başını seçelim\n",
        "    longest_fault = max(fault_ranges, key=lambda x: x[1]-x[0])\n",
        "    first_fault_idx = longest_fault[0]\n",
        "    total_length = len(calm_df)\n",
        "\n",
        "    # Arıza oranı hesapla\n",
        "    fault_ratio = first_fault_idx / total_length\n",
        "\n",
        "    # Gerçek km cinsinden arıza konumu\n",
        "    fault_km = fault_ratio * total_km\n",
        "\n",
        "    return fault_km\n",
        "\n",
        "# ✔️ 4. Tüm dosyalar için analiz yap: eğitim + test\n",
        "print(\"\\n🔍 0901 Serisi - Arıza Konumu Tespit Sonuçları:\")\n",
        "for file in dataset_files:\n",
        "    try:\n",
        "        result = detect_fault_km(file, file_total_km[file])\n",
        "        if result is not None:\n",
        "            if file in file_km_labels:\n",
        "                print(f\"📁 {file} → Tahmini: {result:.2f} km | Gerçek: {file_km_labels[file]:.2f} km\")\n",
        "            else:\n",
        "                print(f\"📁 {file} → Tahmini: {result:.2f} km (Test verisi)\")\n",
        "    except Exception as e:\n",
        "        print(f\"Hata oluştu ({file}):\", e)"
      ]
    }
  ]
}